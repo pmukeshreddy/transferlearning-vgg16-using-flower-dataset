{
  "nbformat": 4,
  "nbformat_minor": 0,
  "metadata": {
    "colab": {
      "provenance": [],
      "authorship_tag": "ABX9TyO70xqQFxLNdb4wod0OJmz1",
      "include_colab_link": true
    },
    "kernelspec": {
      "name": "python3",
      "display_name": "Python 3"
    },
    "language_info": {
      "name": "python"
    },
    "accelerator": "GPU",
    "gpuClass": "standard",
    "widgets": {
      "application/vnd.jupyter.widget-state+json": {
        "9d741a0999674ed99ea1476f35a026e0": {
          "model_module": "@jupyter-widgets/controls",
          "model_name": "HBoxModel",
          "model_module_version": "1.5.0",
          "state": {
            "_dom_classes": [],
            "_model_module": "@jupyter-widgets/controls",
            "_model_module_version": "1.5.0",
            "_model_name": "HBoxModel",
            "_view_count": null,
            "_view_module": "@jupyter-widgets/controls",
            "_view_module_version": "1.5.0",
            "_view_name": "HBoxView",
            "box_style": "",
            "children": [
              "IPY_MODEL_4db0677265a444f19f6c3324aefc542c",
              "IPY_MODEL_24c90363323042f99d994a981767f346",
              "IPY_MODEL_627905dbba664159b67d8a864b17c1b8"
            ],
            "layout": "IPY_MODEL_803c688cb0d2453d8eb8eccc8627011a"
          }
        },
        "4db0677265a444f19f6c3324aefc542c": {
          "model_module": "@jupyter-widgets/controls",
          "model_name": "HTMLModel",
          "model_module_version": "1.5.0",
          "state": {
            "_dom_classes": [],
            "_model_module": "@jupyter-widgets/controls",
            "_model_module_version": "1.5.0",
            "_model_name": "HTMLModel",
            "_view_count": null,
            "_view_module": "@jupyter-widgets/controls",
            "_view_module_version": "1.5.0",
            "_view_name": "HTMLView",
            "description": "",
            "description_tooltip": null,
            "layout": "IPY_MODEL_feb7eda984b6413fb2cd92283f6a6970",
            "placeholder": "​",
            "style": "IPY_MODEL_a8a350a171df4e6a87317295ca6a3385",
            "value": "Dl Completed...: 100%"
          }
        },
        "24c90363323042f99d994a981767f346": {
          "model_module": "@jupyter-widgets/controls",
          "model_name": "FloatProgressModel",
          "model_module_version": "1.5.0",
          "state": {
            "_dom_classes": [],
            "_model_module": "@jupyter-widgets/controls",
            "_model_module_version": "1.5.0",
            "_model_name": "FloatProgressModel",
            "_view_count": null,
            "_view_module": "@jupyter-widgets/controls",
            "_view_module_version": "1.5.0",
            "_view_name": "ProgressView",
            "bar_style": "success",
            "description": "",
            "description_tooltip": null,
            "layout": "IPY_MODEL_fff81bec61cc4896b65b753f7c5b5480",
            "max": 5,
            "min": 0,
            "orientation": "horizontal",
            "style": "IPY_MODEL_f8f24229f6cb42be8fe3c804ef29a8fd",
            "value": 5
          }
        },
        "627905dbba664159b67d8a864b17c1b8": {
          "model_module": "@jupyter-widgets/controls",
          "model_name": "HTMLModel",
          "model_module_version": "1.5.0",
          "state": {
            "_dom_classes": [],
            "_model_module": "@jupyter-widgets/controls",
            "_model_module_version": "1.5.0",
            "_model_name": "HTMLModel",
            "_view_count": null,
            "_view_module": "@jupyter-widgets/controls",
            "_view_module_version": "1.5.0",
            "_view_name": "HTMLView",
            "description": "",
            "description_tooltip": null,
            "layout": "IPY_MODEL_bda1d82cfb42414d89f476054dfe5374",
            "placeholder": "​",
            "style": "IPY_MODEL_2d396cda836c475ea1d1c7c797068b44",
            "value": " 5/5 [00:03&lt;00:00,  1.61 file/s]"
          }
        },
        "803c688cb0d2453d8eb8eccc8627011a": {
          "model_module": "@jupyter-widgets/base",
          "model_name": "LayoutModel",
          "model_module_version": "1.2.0",
          "state": {
            "_model_module": "@jupyter-widgets/base",
            "_model_module_version": "1.2.0",
            "_model_name": "LayoutModel",
            "_view_count": null,
            "_view_module": "@jupyter-widgets/base",
            "_view_module_version": "1.2.0",
            "_view_name": "LayoutView",
            "align_content": null,
            "align_items": null,
            "align_self": null,
            "border": null,
            "bottom": null,
            "display": null,
            "flex": null,
            "flex_flow": null,
            "grid_area": null,
            "grid_auto_columns": null,
            "grid_auto_flow": null,
            "grid_auto_rows": null,
            "grid_column": null,
            "grid_gap": null,
            "grid_row": null,
            "grid_template_areas": null,
            "grid_template_columns": null,
            "grid_template_rows": null,
            "height": null,
            "justify_content": null,
            "justify_items": null,
            "left": null,
            "margin": null,
            "max_height": null,
            "max_width": null,
            "min_height": null,
            "min_width": null,
            "object_fit": null,
            "object_position": null,
            "order": null,
            "overflow": null,
            "overflow_x": null,
            "overflow_y": null,
            "padding": null,
            "right": null,
            "top": null,
            "visibility": null,
            "width": null
          }
        },
        "feb7eda984b6413fb2cd92283f6a6970": {
          "model_module": "@jupyter-widgets/base",
          "model_name": "LayoutModel",
          "model_module_version": "1.2.0",
          "state": {
            "_model_module": "@jupyter-widgets/base",
            "_model_module_version": "1.2.0",
            "_model_name": "LayoutModel",
            "_view_count": null,
            "_view_module": "@jupyter-widgets/base",
            "_view_module_version": "1.2.0",
            "_view_name": "LayoutView",
            "align_content": null,
            "align_items": null,
            "align_self": null,
            "border": null,
            "bottom": null,
            "display": null,
            "flex": null,
            "flex_flow": null,
            "grid_area": null,
            "grid_auto_columns": null,
            "grid_auto_flow": null,
            "grid_auto_rows": null,
            "grid_column": null,
            "grid_gap": null,
            "grid_row": null,
            "grid_template_areas": null,
            "grid_template_columns": null,
            "grid_template_rows": null,
            "height": null,
            "justify_content": null,
            "justify_items": null,
            "left": null,
            "margin": null,
            "max_height": null,
            "max_width": null,
            "min_height": null,
            "min_width": null,
            "object_fit": null,
            "object_position": null,
            "order": null,
            "overflow": null,
            "overflow_x": null,
            "overflow_y": null,
            "padding": null,
            "right": null,
            "top": null,
            "visibility": null,
            "width": null
          }
        },
        "a8a350a171df4e6a87317295ca6a3385": {
          "model_module": "@jupyter-widgets/controls",
          "model_name": "DescriptionStyleModel",
          "model_module_version": "1.5.0",
          "state": {
            "_model_module": "@jupyter-widgets/controls",
            "_model_module_version": "1.5.0",
            "_model_name": "DescriptionStyleModel",
            "_view_count": null,
            "_view_module": "@jupyter-widgets/base",
            "_view_module_version": "1.2.0",
            "_view_name": "StyleView",
            "description_width": ""
          }
        },
        "fff81bec61cc4896b65b753f7c5b5480": {
          "model_module": "@jupyter-widgets/base",
          "model_name": "LayoutModel",
          "model_module_version": "1.2.0",
          "state": {
            "_model_module": "@jupyter-widgets/base",
            "_model_module_version": "1.2.0",
            "_model_name": "LayoutModel",
            "_view_count": null,
            "_view_module": "@jupyter-widgets/base",
            "_view_module_version": "1.2.0",
            "_view_name": "LayoutView",
            "align_content": null,
            "align_items": null,
            "align_self": null,
            "border": null,
            "bottom": null,
            "display": null,
            "flex": null,
            "flex_flow": null,
            "grid_area": null,
            "grid_auto_columns": null,
            "grid_auto_flow": null,
            "grid_auto_rows": null,
            "grid_column": null,
            "grid_gap": null,
            "grid_row": null,
            "grid_template_areas": null,
            "grid_template_columns": null,
            "grid_template_rows": null,
            "height": null,
            "justify_content": null,
            "justify_items": null,
            "left": null,
            "margin": null,
            "max_height": null,
            "max_width": null,
            "min_height": null,
            "min_width": null,
            "object_fit": null,
            "object_position": null,
            "order": null,
            "overflow": null,
            "overflow_x": null,
            "overflow_y": null,
            "padding": null,
            "right": null,
            "top": null,
            "visibility": null,
            "width": null
          }
        },
        "f8f24229f6cb42be8fe3c804ef29a8fd": {
          "model_module": "@jupyter-widgets/controls",
          "model_name": "ProgressStyleModel",
          "model_module_version": "1.5.0",
          "state": {
            "_model_module": "@jupyter-widgets/controls",
            "_model_module_version": "1.5.0",
            "_model_name": "ProgressStyleModel",
            "_view_count": null,
            "_view_module": "@jupyter-widgets/base",
            "_view_module_version": "1.2.0",
            "_view_name": "StyleView",
            "bar_color": null,
            "description_width": ""
          }
        },
        "bda1d82cfb42414d89f476054dfe5374": {
          "model_module": "@jupyter-widgets/base",
          "model_name": "LayoutModel",
          "model_module_version": "1.2.0",
          "state": {
            "_model_module": "@jupyter-widgets/base",
            "_model_module_version": "1.2.0",
            "_model_name": "LayoutModel",
            "_view_count": null,
            "_view_module": "@jupyter-widgets/base",
            "_view_module_version": "1.2.0",
            "_view_name": "LayoutView",
            "align_content": null,
            "align_items": null,
            "align_self": null,
            "border": null,
            "bottom": null,
            "display": null,
            "flex": null,
            "flex_flow": null,
            "grid_area": null,
            "grid_auto_columns": null,
            "grid_auto_flow": null,
            "grid_auto_rows": null,
            "grid_column": null,
            "grid_gap": null,
            "grid_row": null,
            "grid_template_areas": null,
            "grid_template_columns": null,
            "grid_template_rows": null,
            "height": null,
            "justify_content": null,
            "justify_items": null,
            "left": null,
            "margin": null,
            "max_height": null,
            "max_width": null,
            "min_height": null,
            "min_width": null,
            "object_fit": null,
            "object_position": null,
            "order": null,
            "overflow": null,
            "overflow_x": null,
            "overflow_y": null,
            "padding": null,
            "right": null,
            "top": null,
            "visibility": null,
            "width": null
          }
        },
        "2d396cda836c475ea1d1c7c797068b44": {
          "model_module": "@jupyter-widgets/controls",
          "model_name": "DescriptionStyleModel",
          "model_module_version": "1.5.0",
          "state": {
            "_model_module": "@jupyter-widgets/controls",
            "_model_module_version": "1.5.0",
            "_model_name": "DescriptionStyleModel",
            "_view_count": null,
            "_view_module": "@jupyter-widgets/base",
            "_view_module_version": "1.2.0",
            "_view_name": "StyleView",
            "description_width": ""
          }
        }
      }
    }
  },
  "cells": [
    {
      "cell_type": "markdown",
      "metadata": {
        "id": "view-in-github",
        "colab_type": "text"
      },
      "source": [
        "<a href=\"https://colab.research.google.com/github/pmukeshreddy/transferlearning-vgg16-using-flower-dataset/blob/main/vgg16.ipynb\" target=\"_parent\"><img src=\"https://colab.research.google.com/assets/colab-badge.svg\" alt=\"Open In Colab\"/></a>"
      ]
    },
    {
      "cell_type": "code",
      "execution_count": 1,
      "metadata": {
        "id": "_Af8BC1XOOkG"
      },
      "outputs": [],
      "source": [
        "from tensorflow.keras.layers import Conv2D,BatchNormalization,Activation,Dense,concatenate,MaxPooling2D,Flatten"
      ]
    },
    {
      "cell_type": "code",
      "source": [
        "import tensorflow_datasets as tdfs\n",
        "from tensorflow.keras.utils import to_categorical"
      ],
      "metadata": {
        "id": "pI3RmHWFl1AS"
      },
      "execution_count": 2,
      "outputs": []
    },
    {
      "cell_type": "code",
      "source": [
        "(train_ds,train_label),(test_ds,test_label) = tdfs.load(\"tf_flowers\",split=[\"train[:70%]\",\"train[:30%]\"],batch_size=-1,as_supervised=True)"
      ],
      "metadata": {
        "colab": {
          "base_uri": "https://localhost:8080/",
          "height": 85,
          "referenced_widgets": [
            "9d741a0999674ed99ea1476f35a026e0",
            "4db0677265a444f19f6c3324aefc542c",
            "24c90363323042f99d994a981767f346",
            "627905dbba664159b67d8a864b17c1b8",
            "803c688cb0d2453d8eb8eccc8627011a",
            "feb7eda984b6413fb2cd92283f6a6970",
            "a8a350a171df4e6a87317295ca6a3385",
            "fff81bec61cc4896b65b753f7c5b5480",
            "f8f24229f6cb42be8fe3c804ef29a8fd",
            "bda1d82cfb42414d89f476054dfe5374",
            "2d396cda836c475ea1d1c7c797068b44"
          ]
        },
        "id": "nZiMrA4DmV9D",
        "outputId": "61959e59-94f3-4023-bfc0-37042d5b3994"
      },
      "execution_count": 3,
      "outputs": [
        {
          "output_type": "stream",
          "name": "stdout",
          "text": [
            "\u001b[1mDownloading and preparing dataset 218.21 MiB (download: 218.21 MiB, generated: 221.83 MiB, total: 440.05 MiB) to ~/tensorflow_datasets/tf_flowers/3.0.1...\u001b[0m\n"
          ]
        },
        {
          "output_type": "display_data",
          "data": {
            "text/plain": [
              "Dl Completed...:   0%|          | 0/5 [00:00<?, ? file/s]"
            ],
            "application/vnd.jupyter.widget-view+json": {
              "version_major": 2,
              "version_minor": 0,
              "model_id": "9d741a0999674ed99ea1476f35a026e0"
            }
          },
          "metadata": {}
        },
        {
          "output_type": "stream",
          "name": "stdout",
          "text": [
            "\u001b[1mDataset tf_flowers downloaded and prepared to ~/tensorflow_datasets/tf_flowers/3.0.1. Subsequent calls will reuse this data.\u001b[0m\n"
          ]
        }
      ]
    },
    {
      "cell_type": "code",
      "source": [
        "import tensorflow as tf"
      ],
      "metadata": {
        "id": "Wrb1zwWQnbkk"
      },
      "execution_count": 4,
      "outputs": []
    },
    {
      "cell_type": "code",
      "source": [
        "train_ds = tf.image.resize(train_ds,(150,150))\n",
        "test_ds = tf.image.resize(test_ds,(150,150))"
      ],
      "metadata": {
        "id": "7iqnGNKun0X3"
      },
      "execution_count": 5,
      "outputs": []
    },
    {
      "cell_type": "code",
      "source": [
        "train_label = to_categorical(train_label,num_classes=5)\n",
        "test_label = to_categorical(test_label,num_classes=5)"
      ],
      "metadata": {
        "id": "i_EvXc8EoEUa"
      },
      "execution_count": 6,
      "outputs": []
    },
    {
      "cell_type": "code",
      "source": [
        "from tensorflow.keras.applications.vgg16 import VGG16\n",
        "from tensorflow.keras.applications.vgg16 import preprocess_input"
      ],
      "metadata": {
        "id": "9j1Md0yMohTx"
      },
      "execution_count": 7,
      "outputs": []
    },
    {
      "cell_type": "code",
      "source": [
        "base_model = VGG16(weights=\"imagenet\",include_top=False,input_shape=train_ds[0].shape)"
      ],
      "metadata": {
        "colab": {
          "base_uri": "https://localhost:8080/"
        },
        "id": "vyp-GIn_o-2f",
        "outputId": "4d195c04-ee68-451b-dd4e-bac7c8946f06"
      },
      "execution_count": 8,
      "outputs": [
        {
          "output_type": "stream",
          "name": "stdout",
          "text": [
            "Downloading data from https://storage.googleapis.com/tensorflow/keras-applications/vgg16/vgg16_weights_tf_dim_ordering_tf_kernels_notop.h5\n",
            "58889256/58889256 [==============================] - 1s 0us/step\n"
          ]
        }
      ]
    },
    {
      "cell_type": "code",
      "source": [
        "base_model.trainable=False"
      ],
      "metadata": {
        "id": "5UmxA7oCpsiB"
      },
      "execution_count": 9,
      "outputs": []
    },
    {
      "cell_type": "code",
      "source": [
        "train_ds = preprocess_input(train_ds)\n",
        "test_ds = preprocess_input(test_ds)"
      ],
      "metadata": {
        "id": "z4JmUIssp809"
      },
      "execution_count": 10,
      "outputs": []
    },
    {
      "cell_type": "code",
      "source": [
        "base_model.summary()"
      ],
      "metadata": {
        "colab": {
          "base_uri": "https://localhost:8080/"
        },
        "id": "oSMpHXoiqNCt",
        "outputId": "c7a3a32d-7cad-4b36-ecfe-e7c3caab4d6a"
      },
      "execution_count": 11,
      "outputs": [
        {
          "output_type": "stream",
          "name": "stdout",
          "text": [
            "Model: \"vgg16\"\n",
            "_________________________________________________________________\n",
            " Layer (type)                Output Shape              Param #   \n",
            "=================================================================\n",
            " input_1 (InputLayer)        [(None, 150, 150, 3)]     0         \n",
            "                                                                 \n",
            " block1_conv1 (Conv2D)       (None, 150, 150, 64)      1792      \n",
            "                                                                 \n",
            " block1_conv2 (Conv2D)       (None, 150, 150, 64)      36928     \n",
            "                                                                 \n",
            " block1_pool (MaxPooling2D)  (None, 75, 75, 64)        0         \n",
            "                                                                 \n",
            " block2_conv1 (Conv2D)       (None, 75, 75, 128)       73856     \n",
            "                                                                 \n",
            " block2_conv2 (Conv2D)       (None, 75, 75, 128)       147584    \n",
            "                                                                 \n",
            " block2_pool (MaxPooling2D)  (None, 37, 37, 128)       0         \n",
            "                                                                 \n",
            " block3_conv1 (Conv2D)       (None, 37, 37, 256)       295168    \n",
            "                                                                 \n",
            " block3_conv2 (Conv2D)       (None, 37, 37, 256)       590080    \n",
            "                                                                 \n",
            " block3_conv3 (Conv2D)       (None, 37, 37, 256)       590080    \n",
            "                                                                 \n",
            " block3_pool (MaxPooling2D)  (None, 18, 18, 256)       0         \n",
            "                                                                 \n",
            " block4_conv1 (Conv2D)       (None, 18, 18, 512)       1180160   \n",
            "                                                                 \n",
            " block4_conv2 (Conv2D)       (None, 18, 18, 512)       2359808   \n",
            "                                                                 \n",
            " block4_conv3 (Conv2D)       (None, 18, 18, 512)       2359808   \n",
            "                                                                 \n",
            " block4_pool (MaxPooling2D)  (None, 9, 9, 512)         0         \n",
            "                                                                 \n",
            " block5_conv1 (Conv2D)       (None, 9, 9, 512)         2359808   \n",
            "                                                                 \n",
            " block5_conv2 (Conv2D)       (None, 9, 9, 512)         2359808   \n",
            "                                                                 \n",
            " block5_conv3 (Conv2D)       (None, 9, 9, 512)         2359808   \n",
            "                                                                 \n",
            " block5_pool (MaxPooling2D)  (None, 4, 4, 512)         0         \n",
            "                                                                 \n",
            "=================================================================\n",
            "Total params: 14,714,688\n",
            "Trainable params: 0\n",
            "Non-trainable params: 14,714,688\n",
            "_________________________________________________________________\n"
          ]
        }
      ]
    },
    {
      "cell_type": "code",
      "source": [
        "from tensorflow.keras.models import Sequential"
      ],
      "metadata": {
        "id": "k_oJIc0LqRac"
      },
      "execution_count": 12,
      "outputs": []
    },
    {
      "cell_type": "code",
      "source": [
        "flaten_layer = Flatten()\n",
        "dense_1 = Dense(50,activation=\"relu\")\n",
        "dense_2 = Dense(20,activation=\"relu\")\n",
        "dense_3 = Dense(5,activation=\"softmax\")"
      ],
      "metadata": {
        "id": "PA17NFM0qz4U"
      },
      "execution_count": 13,
      "outputs": []
    },
    {
      "cell_type": "code",
      "source": [
        "model = Sequential([base_model,flaten_layer,dense_1,dense_2,dense_3])"
      ],
      "metadata": {
        "id": "R1MSHJR8rJ-8"
      },
      "execution_count": 14,
      "outputs": []
    },
    {
      "cell_type": "code",
      "source": [
        "model.compile(optimizer=\"adam\",loss=\"categorical_crossentropy\",metrics=[\"accuracy\"])"
      ],
      "metadata": {
        "id": "UW_NBd2ErZnq"
      },
      "execution_count": 15,
      "outputs": []
    },
    {
      "cell_type": "code",
      "source": [
        "model.fit(train_ds,train_label,epochs=50,validation_split=0.2,batch_size=32)"
      ],
      "metadata": {
        "colab": {
          "base_uri": "https://localhost:8080/"
        },
        "id": "C1d_eOK2rws-",
        "outputId": "00eeb6e8-f09e-4759-fac9-559d64d99028"
      },
      "execution_count": 16,
      "outputs": [
        {
          "output_type": "stream",
          "name": "stdout",
          "text": [
            "Epoch 1/50\n",
            "65/65 [==============================] - 18s 124ms/step - loss: 1.7651 - accuracy: 0.3630 - val_loss: 1.2749 - val_accuracy: 0.4786\n",
            "Epoch 2/50\n",
            "65/65 [==============================] - 6s 97ms/step - loss: 1.1349 - accuracy: 0.5582 - val_loss: 1.1603 - val_accuracy: 0.5661\n",
            "Epoch 3/50\n",
            "65/65 [==============================] - 6s 97ms/step - loss: 0.9647 - accuracy: 0.6623 - val_loss: 1.0685 - val_accuracy: 0.6265\n",
            "Epoch 4/50\n",
            "65/65 [==============================] - 6s 98ms/step - loss: 0.7804 - accuracy: 0.7367 - val_loss: 1.1488 - val_accuracy: 0.6576\n",
            "Epoch 5/50\n",
            "65/65 [==============================] - 6s 99ms/step - loss: 0.6629 - accuracy: 0.7781 - val_loss: 1.0913 - val_accuracy: 0.6420\n",
            "Epoch 6/50\n",
            "65/65 [==============================] - 7s 101ms/step - loss: 0.5664 - accuracy: 0.8122 - val_loss: 1.2299 - val_accuracy: 0.6790\n",
            "Epoch 7/50\n",
            "65/65 [==============================] - 7s 101ms/step - loss: 0.4655 - accuracy: 0.8282 - val_loss: 1.2577 - val_accuracy: 0.6693\n",
            "Epoch 8/50\n",
            "65/65 [==============================] - 7s 101ms/step - loss: 0.3879 - accuracy: 0.8516 - val_loss: 1.4639 - val_accuracy: 0.6887\n",
            "Epoch 9/50\n",
            "65/65 [==============================] - 7s 101ms/step - loss: 0.3226 - accuracy: 0.8745 - val_loss: 1.3621 - val_accuracy: 0.6926\n",
            "Epoch 10/50\n",
            "65/65 [==============================] - 7s 100ms/step - loss: 0.2553 - accuracy: 0.8968 - val_loss: 1.5768 - val_accuracy: 0.6848\n",
            "Epoch 11/50\n",
            "65/65 [==============================] - 6s 100ms/step - loss: 0.2421 - accuracy: 0.9051 - val_loss: 1.6271 - val_accuracy: 0.6595\n",
            "Epoch 12/50\n",
            "65/65 [==============================] - 7s 101ms/step - loss: 0.2376 - accuracy: 0.9056 - val_loss: 1.7164 - val_accuracy: 0.6907\n",
            "Epoch 13/50\n",
            "65/65 [==============================] - 6s 100ms/step - loss: 0.1988 - accuracy: 0.9178 - val_loss: 1.7704 - val_accuracy: 0.6809\n",
            "Epoch 14/50\n",
            "65/65 [==============================] - 6s 100ms/step - loss: 0.1530 - accuracy: 0.9348 - val_loss: 1.7276 - val_accuracy: 0.7043\n",
            "Epoch 15/50\n",
            "65/65 [==============================] - 7s 100ms/step - loss: 0.1331 - accuracy: 0.9484 - val_loss: 1.7030 - val_accuracy: 0.6984\n",
            "Epoch 16/50\n",
            "65/65 [==============================] - 6s 100ms/step - loss: 0.1170 - accuracy: 0.9479 - val_loss: 1.6737 - val_accuracy: 0.6946\n",
            "Epoch 17/50\n",
            "65/65 [==============================] - 6s 100ms/step - loss: 0.0943 - accuracy: 0.9567 - val_loss: 1.8027 - val_accuracy: 0.6965\n",
            "Epoch 18/50\n",
            "65/65 [==============================] - 6s 100ms/step - loss: 0.0860 - accuracy: 0.9625 - val_loss: 1.9834 - val_accuracy: 0.7004\n",
            "Epoch 19/50\n",
            "65/65 [==============================] - 6s 100ms/step - loss: 0.1210 - accuracy: 0.9547 - val_loss: 2.0494 - val_accuracy: 0.6887\n",
            "Epoch 20/50\n",
            "65/65 [==============================] - 6s 100ms/step - loss: 0.1110 - accuracy: 0.9577 - val_loss: 2.1366 - val_accuracy: 0.6751\n",
            "Epoch 21/50\n",
            "65/65 [==============================] - 6s 100ms/step - loss: 0.1203 - accuracy: 0.9611 - val_loss: 1.7759 - val_accuracy: 0.6907\n",
            "Epoch 22/50\n",
            "65/65 [==============================] - 6s 100ms/step - loss: 0.0964 - accuracy: 0.9659 - val_loss: 2.0141 - val_accuracy: 0.7062\n",
            "Epoch 23/50\n",
            "65/65 [==============================] - 7s 100ms/step - loss: 0.0787 - accuracy: 0.9708 - val_loss: 2.0764 - val_accuracy: 0.7082\n",
            "Epoch 24/50\n",
            "65/65 [==============================] - 6s 100ms/step - loss: 0.0811 - accuracy: 0.9698 - val_loss: 1.9120 - val_accuracy: 0.6984\n",
            "Epoch 25/50\n",
            "65/65 [==============================] - 6s 100ms/step - loss: 0.0518 - accuracy: 0.9800 - val_loss: 1.9153 - val_accuracy: 0.6887\n",
            "Epoch 26/50\n",
            "65/65 [==============================] - 7s 101ms/step - loss: 0.0407 - accuracy: 0.9849 - val_loss: 1.9518 - val_accuracy: 0.7043\n",
            "Epoch 27/50\n",
            "65/65 [==============================] - 6s 100ms/step - loss: 0.0407 - accuracy: 0.9830 - val_loss: 1.8823 - val_accuracy: 0.7179\n",
            "Epoch 28/50\n",
            "65/65 [==============================] - 7s 100ms/step - loss: 0.0324 - accuracy: 0.9873 - val_loss: 2.1101 - val_accuracy: 0.7082\n",
            "Epoch 29/50\n",
            "65/65 [==============================] - 7s 100ms/step - loss: 0.0338 - accuracy: 0.9878 - val_loss: 2.0748 - val_accuracy: 0.7004\n",
            "Epoch 30/50\n",
            "65/65 [==============================] - 7s 100ms/step - loss: 0.0306 - accuracy: 0.9912 - val_loss: 2.1229 - val_accuracy: 0.6868\n",
            "Epoch 31/50\n",
            "65/65 [==============================] - 6s 100ms/step - loss: 0.0241 - accuracy: 0.9908 - val_loss: 2.2027 - val_accuracy: 0.6984\n",
            "Epoch 32/50\n",
            "65/65 [==============================] - 6s 100ms/step - loss: 0.0200 - accuracy: 0.9927 - val_loss: 2.2808 - val_accuracy: 0.6946\n",
            "Epoch 33/50\n",
            "65/65 [==============================] - 6s 100ms/step - loss: 0.0257 - accuracy: 0.9903 - val_loss: 2.4591 - val_accuracy: 0.7121\n",
            "Epoch 34/50\n",
            "65/65 [==============================] - 7s 101ms/step - loss: 0.1127 - accuracy: 0.9664 - val_loss: 2.4058 - val_accuracy: 0.6887\n",
            "Epoch 35/50\n",
            "65/65 [==============================] - 7s 100ms/step - loss: 0.2431 - accuracy: 0.9314 - val_loss: 2.3463 - val_accuracy: 0.6654\n",
            "Epoch 36/50\n",
            "65/65 [==============================] - 7s 101ms/step - loss: 0.2108 - accuracy: 0.9382 - val_loss: 2.2764 - val_accuracy: 0.6984\n",
            "Epoch 37/50\n",
            "65/65 [==============================] - 6s 100ms/step - loss: 0.1888 - accuracy: 0.9450 - val_loss: 2.4130 - val_accuracy: 0.6907\n",
            "Epoch 38/50\n",
            "65/65 [==============================] - 7s 101ms/step - loss: 0.0972 - accuracy: 0.9708 - val_loss: 2.7181 - val_accuracy: 0.6946\n",
            "Epoch 39/50\n",
            "65/65 [==============================] - 6s 100ms/step - loss: 0.0585 - accuracy: 0.9810 - val_loss: 2.7004 - val_accuracy: 0.6848\n",
            "Epoch 40/50\n",
            "65/65 [==============================] - 6s 100ms/step - loss: 0.0280 - accuracy: 0.9903 - val_loss: 2.5487 - val_accuracy: 0.7062\n",
            "Epoch 41/50\n",
            "65/65 [==============================] - 6s 100ms/step - loss: 0.0213 - accuracy: 0.9903 - val_loss: 2.8292 - val_accuracy: 0.6965\n",
            "Epoch 42/50\n",
            "65/65 [==============================] - 6s 100ms/step - loss: 0.0278 - accuracy: 0.9903 - val_loss: 2.7585 - val_accuracy: 0.7004\n",
            "Epoch 43/50\n",
            "65/65 [==============================] - 6s 100ms/step - loss: 0.0179 - accuracy: 0.9937 - val_loss: 2.8131 - val_accuracy: 0.6946\n",
            "Epoch 44/50\n",
            "65/65 [==============================] - 6s 100ms/step - loss: 0.0157 - accuracy: 0.9937 - val_loss: 2.8559 - val_accuracy: 0.6984\n",
            "Epoch 45/50\n",
            "65/65 [==============================] - 6s 100ms/step - loss: 0.0161 - accuracy: 0.9937 - val_loss: 2.7779 - val_accuracy: 0.7023\n",
            "Epoch 46/50\n",
            "65/65 [==============================] - 6s 100ms/step - loss: 0.0153 - accuracy: 0.9932 - val_loss: 2.8233 - val_accuracy: 0.7043\n",
            "Epoch 47/50\n",
            "65/65 [==============================] - 6s 100ms/step - loss: 0.0144 - accuracy: 0.9937 - val_loss: 2.9678 - val_accuracy: 0.7023\n",
            "Epoch 48/50\n",
            "65/65 [==============================] - 6s 100ms/step - loss: 0.0134 - accuracy: 0.9937 - val_loss: 2.9948 - val_accuracy: 0.7082\n",
            "Epoch 49/50\n",
            "65/65 [==============================] - 6s 100ms/step - loss: 0.0121 - accuracy: 0.9942 - val_loss: 2.9601 - val_accuracy: 0.7043\n",
            "Epoch 50/50\n",
            "65/65 [==============================] - 7s 101ms/step - loss: 0.0123 - accuracy: 0.9942 - val_loss: 3.0488 - val_accuracy: 0.6965\n"
          ]
        },
        {
          "output_type": "execute_result",
          "data": {
            "text/plain": [
              "<keras.callbacks.History at 0x7f3dc6d06b90>"
            ]
          },
          "metadata": {},
          "execution_count": 16
        }
      ]
    },
    {
      "cell_type": "code",
      "source": [],
      "metadata": {
        "id": "t6HiO0Asr_oz"
      },
      "execution_count": 16,
      "outputs": []
    }
  ]
}